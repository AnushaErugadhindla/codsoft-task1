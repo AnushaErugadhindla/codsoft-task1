{
  "cells": [
    {
      "cell_type": "markdown",
      "metadata": {
        "id": "view-in-github",
        "colab_type": "text"
      },
      "source": [
        "<a href=\"https://colab.research.google.com/github/AnushaErugadhindla/codsoft-task1/blob/calculator/Tasks_py.ipynb\" target=\"_parent\"><img src=\"https://colab.research.google.com/assets/colab-badge.svg\" alt=\"Open In Colab\"/></a>"
      ]
    },
    {
      "cell_type": "code",
      "execution_count": 1,
      "metadata": {
        "colab": {
          "base_uri": "https://localhost:8080/"
        },
        "id": "AygJFcnLXPHe",
        "outputId": "e8c7e55e-5ef4-49b6-bdc7-4aebaffdfe7d"
      },
      "outputs": [
        {
          "output_type": "stream",
          "name": "stdout",
          "text": [
            "Enter your first value: 10\n",
            "Enter your second value: 90\n",
            "Enter the operation sign you want\n",
            "+ - * / %\n",
            "sign: +\n",
            "Resulted value is:  100.0\n"
          ]
        }
      ],
      "source": [
        "# SIMPLE CALCULATOR\n",
        "value1=float(input(\"Enter your first value: \"))\n",
        "value2=float(input(\"Enter your second value: \"))\n",
        "print(\"Enter the operation sign you want\")\n",
        "print(\"+\" ,\"-\" ,\"*\" ,\"/\",\"%\")\n",
        "sign=input(\"sign: \" )\n",
        "if sign==\"+\":\n",
        "           print(\"Resulted value is: \",value1+value2)\n",
        "elif sign == \"-\":\n",
        "           print(\"Resulted value is: \",value1-value2)\n",
        "elif sign == \"*\":\n",
        "           print(\"Resulted value is: \",value1*value2)\n",
        "elif sign == \"/\":\n",
        "           print(\"Resulted value is: \",value1/value2)\n",
        "elif sign == \"%\":\n",
        "           print(\"Resulted value is :\",value1%value2)\n",
        "else:\n",
        "           print(\"ENTER VALID SIGN!!\")"
      ]
    }
  ],
  "metadata": {
    "colab": {
      "provenance": [],
      "authorship_tag": "ABX9TyNdgS+X9oy/dpGqcJ68uRMc",
      "include_colab_link": true
    },
    "kernelspec": {
      "display_name": "Python 3",
      "name": "python3"
    },
    "language_info": {
      "name": "python"
    }
  },
  "nbformat": 4,
  "nbformat_minor": 0
}